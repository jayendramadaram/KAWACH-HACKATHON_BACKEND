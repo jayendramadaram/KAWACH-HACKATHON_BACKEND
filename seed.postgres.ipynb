{
 "cells": [
  {
   "cell_type": "code",
   "execution_count": 77,
   "metadata": {},
   "outputs": [],
   "source": [
    "import psycopg2\n",
    "import random\n"
   ]
  },
  {
   "cell_type": "code",
   "execution_count": 78,
   "metadata": {},
   "outputs": [],
   "source": [
    "\n",
    "\n",
    "# print(values)\n",
    "# # Connect to the PostgreSQL database\n",
    "\n"
   ]
  },
  {
   "cell_type": "code",
   "execution_count": 79,
   "metadata": {},
   "outputs": [],
   "source": [
    "# Define the possible values for the SpamType and CASE enums\n",
    "SPAM_TYPE_VALUES = ['Mobile', 'Sms']\n",
    "CASE_VALUES = ['Spam', 'Fraud']\n",
    "SOMETEXT = [\n",
    "    'a phishing scam aimed at stealing your personal information.',\n",
    "    'suspected to be spam.',\n",
    "    'suspected to be a scam for loan laundering.',\n",
    "    'a common tactic used by scammers to trick people into providing personal and financial information.',\n",
    "    'phishing scam designed to steal your personal and financial information.'\n",
    "]\n",
    "\n",
    "# Generate 1000 random mobile phone numbers\n",
    "items = ['9' + ''.join(random.choice('0123456789')\n",
    "                       for _ in range(9)) for _ in range(3000)]\n",
    "# print(items)\n",
    "# Generate the values to insert into the PreDB table\n",
    "values = [(item, random.choice(SPAM_TYPE_VALUES), random.choice(\n",
    "    CASE_VALUES), random.choice(SOMETEXT)) for item in items]"
   ]
  },
  {
   "cell_type": "code",
   "execution_count": 80,
   "metadata": {},
   "outputs": [
    {
     "name": "stdout",
     "output_type": "stream",
     "text": [
      "ADDEDD 3000 records to database successfully\n"
     ]
    }
   ],
   "source": [
    "# Open a cursor to perform database operations\n",
    "conn = psycopg2.connect(\n",
    "    host=\"containers-us-west-25.railway.app\",\n",
    "    port=\"7582\",\n",
    "    database=\"railway\",\n",
    "    user=\"postgres\",\n",
    "    password=\"hxB7oDUyBZs9xsuwgIIj\"\n",
    ")\n",
    "\n",
    "\n",
    "\n",
    "cur = conn.cursor()\n",
    "\n",
    "# Define the SQL INSERT statement\n",
    "insert_statement = \"\"\"\n",
    "    INSERT INTO Predb (Item, Type, CaseType, Context)\n",
    "    VALUES (%s, %s, %s, %s)\n",
    "\"\"\"\n",
    "\n",
    "\n",
    "# Execute the SQL INSERT statement with the values to insert\n",
    "cur.executemany(insert_statement, values)\n",
    "\n",
    "print(f\"ADDEDD {len(values) } records to database successfully\")\n",
    "# Commit the transaction to the database\n",
    "conn.commit()\n",
    "\n",
    "# Close the cursor and connection\n",
    "cur.close()\n",
    "conn.close()\n"
   ]
  },
  {
   "cell_type": "code",
   "execution_count": null,
   "metadata": {},
   "outputs": [],
   "source": []
  },
  {
   "cell_type": "code",
   "execution_count": null,
   "metadata": {},
   "outputs": [],
   "source": []
  }
 ],
 "metadata": {
  "kernelspec": {
   "display_name": "Python 3",
   "language": "python",
   "name": "python3"
  },
  "language_info": {
   "codemirror_mode": {
    "name": "ipython",
    "version": 3
   },
   "file_extension": ".py",
   "mimetype": "text/x-python",
   "name": "python",
   "nbconvert_exporter": "python",
   "pygments_lexer": "ipython3",
   "version": "3.9.1"
  },
  "orig_nbformat": 4
 },
 "nbformat": 4,
 "nbformat_minor": 2
}
